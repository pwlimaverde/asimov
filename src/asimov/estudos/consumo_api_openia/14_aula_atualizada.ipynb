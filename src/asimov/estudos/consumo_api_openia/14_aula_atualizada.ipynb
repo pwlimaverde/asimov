{
 "cells": [
  {
   "cell_type": "code",
   "execution_count": 2,
   "id": "6647b042",
   "metadata": {},
   "outputs": [
    {
     "data": {
      "text/html": [
       "<div>\n",
       "<style scoped>\n",
       "    .dataframe tbody tr th:only-of-type {\n",
       "        vertical-align: middle;\n",
       "    }\n",
       "\n",
       "    .dataframe tbody tr th {\n",
       "        vertical-align: top;\n",
       "    }\n",
       "\n",
       "    .dataframe thead th {\n",
       "        text-align: right;\n",
       "    }\n",
       "</style>\n",
       "<table border=\"1\" class=\"dataframe\">\n",
       "  <thead>\n",
       "    <tr style=\"text-align: right;\">\n",
       "      <th></th>\n",
       "      <th>Invoice ID</th>\n",
       "      <th>Branch</th>\n",
       "      <th>City</th>\n",
       "      <th>Customer type</th>\n",
       "      <th>Gender</th>\n",
       "      <th>Product line</th>\n",
       "      <th>Unit price</th>\n",
       "      <th>Quantity</th>\n",
       "      <th>Tax 5%</th>\n",
       "      <th>Total</th>\n",
       "      <th>Date</th>\n",
       "      <th>Time</th>\n",
       "      <th>Payment</th>\n",
       "      <th>cogs</th>\n",
       "      <th>gross margin percentage</th>\n",
       "      <th>gross income</th>\n",
       "      <th>Rating</th>\n",
       "    </tr>\n",
       "  </thead>\n",
       "  <tbody>\n",
       "    <tr>\n",
       "      <th>0</th>\n",
       "      <td>750-67-8428</td>\n",
       "      <td>A</td>\n",
       "      <td>Yangon</td>\n",
       "      <td>Member</td>\n",
       "      <td>Female</td>\n",
       "      <td>Health and beauty</td>\n",
       "      <td>74.69</td>\n",
       "      <td>7</td>\n",
       "      <td>26.1415</td>\n",
       "      <td>548.9715</td>\n",
       "      <td>1/5/2019</td>\n",
       "      <td>13:08</td>\n",
       "      <td>Ewallet</td>\n",
       "      <td>522.83</td>\n",
       "      <td>4.761905</td>\n",
       "      <td>26.1415</td>\n",
       "      <td>9.1</td>\n",
       "    </tr>\n",
       "    <tr>\n",
       "      <th>1</th>\n",
       "      <td>226-31-3081</td>\n",
       "      <td>C</td>\n",
       "      <td>Naypyitaw</td>\n",
       "      <td>Normal</td>\n",
       "      <td>Female</td>\n",
       "      <td>Electronic accessories</td>\n",
       "      <td>15.28</td>\n",
       "      <td>5</td>\n",
       "      <td>3.8200</td>\n",
       "      <td>80.2200</td>\n",
       "      <td>3/8/2019</td>\n",
       "      <td>10:29</td>\n",
       "      <td>Cash</td>\n",
       "      <td>76.40</td>\n",
       "      <td>4.761905</td>\n",
       "      <td>3.8200</td>\n",
       "      <td>9.6</td>\n",
       "    </tr>\n",
       "    <tr>\n",
       "      <th>2</th>\n",
       "      <td>631-41-3108</td>\n",
       "      <td>A</td>\n",
       "      <td>Yangon</td>\n",
       "      <td>Normal</td>\n",
       "      <td>Male</td>\n",
       "      <td>Home and lifestyle</td>\n",
       "      <td>46.33</td>\n",
       "      <td>7</td>\n",
       "      <td>16.2155</td>\n",
       "      <td>340.5255</td>\n",
       "      <td>3/3/2019</td>\n",
       "      <td>13:23</td>\n",
       "      <td>Credit card</td>\n",
       "      <td>324.31</td>\n",
       "      <td>4.761905</td>\n",
       "      <td>16.2155</td>\n",
       "      <td>7.4</td>\n",
       "    </tr>\n",
       "    <tr>\n",
       "      <th>3</th>\n",
       "      <td>123-19-1176</td>\n",
       "      <td>A</td>\n",
       "      <td>Yangon</td>\n",
       "      <td>Member</td>\n",
       "      <td>Male</td>\n",
       "      <td>Health and beauty</td>\n",
       "      <td>58.22</td>\n",
       "      <td>8</td>\n",
       "      <td>23.2880</td>\n",
       "      <td>489.0480</td>\n",
       "      <td>1/27/2019</td>\n",
       "      <td>20:33</td>\n",
       "      <td>Ewallet</td>\n",
       "      <td>465.76</td>\n",
       "      <td>4.761905</td>\n",
       "      <td>23.2880</td>\n",
       "      <td>8.4</td>\n",
       "    </tr>\n",
       "    <tr>\n",
       "      <th>4</th>\n",
       "      <td>373-73-7910</td>\n",
       "      <td>A</td>\n",
       "      <td>Yangon</td>\n",
       "      <td>Normal</td>\n",
       "      <td>Male</td>\n",
       "      <td>Sports and travel</td>\n",
       "      <td>86.31</td>\n",
       "      <td>7</td>\n",
       "      <td>30.2085</td>\n",
       "      <td>634.3785</td>\n",
       "      <td>2/8/2019</td>\n",
       "      <td>10:37</td>\n",
       "      <td>Ewallet</td>\n",
       "      <td>604.17</td>\n",
       "      <td>4.761905</td>\n",
       "      <td>30.2085</td>\n",
       "      <td>5.3</td>\n",
       "    </tr>\n",
       "  </tbody>\n",
       "</table>\n",
       "</div>"
      ],
      "text/plain": [
       "    Invoice ID Branch       City Customer type  Gender  \\\n",
       "0  750-67-8428      A     Yangon        Member  Female   \n",
       "1  226-31-3081      C  Naypyitaw        Normal  Female   \n",
       "2  631-41-3108      A     Yangon        Normal    Male   \n",
       "3  123-19-1176      A     Yangon        Member    Male   \n",
       "4  373-73-7910      A     Yangon        Normal    Male   \n",
       "\n",
       "             Product line  Unit price  Quantity   Tax 5%     Total       Date  \\\n",
       "0       Health and beauty       74.69         7  26.1415  548.9715   1/5/2019   \n",
       "1  Electronic accessories       15.28         5   3.8200   80.2200   3/8/2019   \n",
       "2      Home and lifestyle       46.33         7  16.2155  340.5255   3/3/2019   \n",
       "3       Health and beauty       58.22         8  23.2880  489.0480  1/27/2019   \n",
       "4       Sports and travel       86.31         7  30.2085  634.3785   2/8/2019   \n",
       "\n",
       "    Time      Payment    cogs  gross margin percentage  gross income  Rating  \n",
       "0  13:08      Ewallet  522.83                 4.761905       26.1415     9.1  \n",
       "1  10:29         Cash   76.40                 4.761905        3.8200     9.6  \n",
       "2  13:23  Credit card  324.31                 4.761905       16.2155     7.4  \n",
       "3  20:33      Ewallet  465.76                 4.761905       23.2880     8.4  \n",
       "4  10:37      Ewallet  604.17                 4.761905       30.2085     5.3  "
      ]
     },
     "execution_count": 2,
     "metadata": {},
     "output_type": "execute_result"
    }
   ],
   "source": [
    "import pandas as pd\n",
    "\n",
    "dataset = pd.read_csv('arquivos/supermarket_sales.csv')\n",
    "dataset.head(5)"
   ]
  },
  {
   "cell_type": "code",
   "execution_count": 23,
   "id": "b24db5c5",
   "metadata": {},
   "outputs": [
    {
     "data": {
      "text/plain": [
       "6.9727"
      ]
     },
     "execution_count": 23,
     "metadata": {},
     "output_type": "execute_result"
    }
   ],
   "source": [
    "dataset['Rating'].mean()"
   ]
  },
  {
   "cell_type": "code",
   "execution_count": 4,
   "id": "0b0a7bea",
   "metadata": {},
   "outputs": [],
   "source": [
    "import openai\n",
    "from dotenv import load_dotenv, find_dotenv\n",
    "\n",
    "_ = load_dotenv(find_dotenv())\n",
    "\n",
    "client = openai.Client()"
   ]
  },
  {
   "attachments": {},
   "cell_type": "markdown",
   "id": "d748127d",
   "metadata": {},
   "source": [
    "## Cria o assistant"
   ]
  },
  {
   "cell_type": "code",
   "execution_count": 5,
   "id": "41f744b6",
   "metadata": {},
   "outputs": [],
   "source": [
    "file = client.files.create(\n",
    "    file=open('arquivos/supermarket_sales.csv', 'rb'),\n",
    "    purpose='assistants'\n",
    ")"
   ]
  },
  {
   "cell_type": "code",
   "execution_count": 7,
   "id": "b8385a71",
   "metadata": {},
   "outputs": [],
   "source": [
    "assitant = client.beta.assistants.create(\n",
    "    name=\"Analista Fianceiro\",\n",
    "    instructions='Você é um analista financeiro de um supermercado. Você deve utilizar os dados \\\n",
    "        .csv informados relativos as vendas do supermercado para realizar as suas análises.',\n",
    "    tools=[{'type': 'code_interpreter'}],\n",
    "    tool_resources={'code_interpreter': {'file_ids': [file.id]}},\n",
    "    model='gpt-4o'\n",
    ")"
   ]
  },
  {
   "attachments": {},
   "cell_type": "markdown",
   "id": "ef03a019",
   "metadata": {},
   "source": [
    "## Cria uma thread"
   ]
  },
  {
   "cell_type": "code",
   "execution_count": 8,
   "id": "6e564600",
   "metadata": {},
   "outputs": [],
   "source": [
    "thread = client.beta.threads.create()"
   ]
  },
  {
   "attachments": {},
   "cell_type": "markdown",
   "id": "2dd2acc5",
   "metadata": {},
   "source": [
    "## Adiciona mensagem a thread criada"
   ]
  },
  {
   "cell_type": "code",
   "execution_count": 27,
   "id": "4ba988f8",
   "metadata": {},
   "outputs": [],
   "source": [
    "texto_mensagem = 'Qual é o raqting médio das vendas do supermercado? O arquivo estáno formato csv.'\n",
    "texto_mensagem = 'Gere um gráfico de pizza com o percentual de vendas por meio de pagamento. O arquivo está no formato csv.'\n",
    "\n",
    "message = client.beta.threads.messages.create(\n",
    "    thread_id=thread.id,\n",
    "    role='user',\n",
    "    content=texto_mensagem\n",
    ")"
   ]
  },
  {
   "attachments": {},
   "cell_type": "markdown",
   "id": "db10a63b",
   "metadata": {},
   "source": [
    "## Roda a thread no assistant"
   ]
  },
  {
   "cell_type": "code",
   "execution_count": 28,
   "id": "ab3e750e",
   "metadata": {},
   "outputs": [],
   "source": [
    "run = client.beta.threads.runs.create(\n",
    "    thread_id=thread.id,\n",
    "    assistant_id=assitant.id,\n",
    "    instructions='O nome do usuário é Adriano Soares e ele é um usuário Premium.'\n",
    ")"
   ]
  },
  {
   "attachments": {},
   "cell_type": "markdown",
   "id": "7b71e5ba",
   "metadata": {},
   "source": [
    "## Aguarda a thread rodar"
   ]
  },
  {
   "cell_type": "code",
   "execution_count": 29,
   "id": "cc04b39a",
   "metadata": {},
   "outputs": [],
   "source": [
    "import time\n",
    "\n",
    "while run.status in ['queued', 'in_progress', 'cancelling']:\n",
    "    time.sleep(1)\n",
    "    run = client.beta.threads.runs.retrieve(\n",
    "        thread_id=thread.id,\n",
    "        run_id=run.id\n",
    "    )\n"
   ]
  },
  {
   "cell_type": "code",
   "execution_count": 30,
   "id": "e9d22a02",
   "metadata": {},
   "outputs": [
    {
     "data": {
      "text/plain": [
       "'completed'"
      ]
     },
     "execution_count": 30,
     "metadata": {},
     "output_type": "execute_result"
    }
   ],
   "source": [
    "run.status"
   ]
  },
  {
   "attachments": {},
   "cell_type": "markdown",
   "id": "f2b0bf80",
   "metadata": {},
   "source": [
    "## Verifica a resposta"
   ]
  },
  {
   "cell_type": "code",
   "execution_count": 31,
   "id": "6fa5456c",
   "metadata": {},
   "outputs": [
    {
     "name": "stdout",
     "output_type": "stream",
     "text": [
      "SyncCursorPage[Message](data=[Message(id='msg_BBFvWlwUFpZ3rpcpuYkMNoc7', assistant_id='asst_SF4BvXvzf3u71aDnOVoHG4pz', attachments=[], completed_at=None, content=[ImageFileContentBlock(image_file=ImageFile(file_id='file-XH64csDOSLd96hj7OrLN3CTe'), type='image_file'), TextContentBlock(text=Text(annotations=[], value='Aqui está o gráfico de pizza mostrando o percentual de vendas por meio de pagamento. As vendas estão distribuídas entre:\\n\\n- **Ewallet**: 34.5%\\n- **Cash**: 34.4%\\n- **Credit card**: 31.1%\\n\\nSe precisar de mais alguma coisa, estou à disposição!'), type='text')], created_at=1716990750, incomplete_at=None, incomplete_details=None, metadata={}, object='thread.message', role='assistant', run_id='run_6ytzk2zxnvCjNBGJlfdzTzo8', status=None, thread_id='thread_IV1J6CYkpxuFThgeWe3zppTB'), Message(id='msg_B88lhP86HlZ6AhY1JwG9YgMk', assistant_id=None, attachments=[], completed_at=None, content=[TextContentBlock(text=Text(annotations=[], value='Gere um gráfico de pizza com o percentual de vendas por meio de pagamento. O arquivo está no formato csv.'), type='text')], created_at=1716990738, incomplete_at=None, incomplete_details=None, metadata={}, object='thread.message', role='user', run_id=None, status=None, thread_id='thread_IV1J6CYkpxuFThgeWe3zppTB'), Message(id='msg_00OEOQzhhsBod1WU7HXRTfrY', assistant_id='asst_SF4BvXvzf3u71aDnOVoHG4pz', attachments=[], completed_at=None, content=[TextContentBlock(text=Text(annotations=[], value='O rating médio das vendas do supermercado é aproximadamente 6,97. Se precisar de mais alguma análise ou tiver outra pergunta, é só avisar!'), type='text')], created_at=1716990495, incomplete_at=None, incomplete_details=None, metadata={}, object='thread.message', role='assistant', run_id='run_UWFMpihw7LOdAMHg0OIFEBxh', status=None, thread_id='thread_IV1J6CYkpxuFThgeWe3zppTB'), Message(id='msg_VbDlwELw3s6L9QjRNADmeoiD', assistant_id='asst_SF4BvXvzf3u71aDnOVoHG4pz', attachments=[], completed_at=None, content=[TextContentBlock(text=Text(annotations=[], value='Agora que conseguimos carregar o arquivo com sucesso e confirmar a estrutura dos dados, podemos calcular o rating médio das vendas do supermercado.\\n\\nVou calcular a média da coluna \"Rating\".'), type='text')], created_at=1716990491, incomplete_at=None, incomplete_details=None, metadata={}, object='thread.message', role='assistant', run_id='run_UWFMpihw7LOdAMHg0OIFEBxh', status=None, thread_id='thread_IV1J6CYkpxuFThgeWe3zppTB'), Message(id='msg_gOldJVHFucWayaZwQpQrS5P9', assistant_id=None, attachments=[], completed_at=None, content=[TextContentBlock(text=Text(annotations=[], value='Qual é o raqting médio das vendas do supermercado? O arquivo estáno formato csv.'), type='text')], created_at=1716990486, incomplete_at=None, incomplete_details=None, metadata={}, object='thread.message', role='user', run_id=None, status=None, thread_id='thread_IV1J6CYkpxuFThgeWe3zppTB'), Message(id='msg_16Qg77gEI7adKpAacVrk3AoG', assistant_id='asst_SF4BvXvzf3u71aDnOVoHG4pz', attachments=[], completed_at=None, content=[TextContentBlock(text=Text(annotations=[], value='Parece que o arquivo está no formato CSV. Vou carregá-lo como um DataFrame CSV e, em seguida, calcular o rating médio das vendas do supermercado.'), type='text')], created_at=1716990390, incomplete_at=None, incomplete_details=None, metadata={}, object='thread.message', role='assistant', run_id='run_qfjCBmcQ6ggM0Zhr45PeyYyq', status=None, thread_id='thread_IV1J6CYkpxuFThgeWe3zppTB'), Message(id='msg_uzzobHBSp2njpPaDHE0tvE6z', assistant_id='asst_SF4BvXvzf3u71aDnOVoHG4pz', attachments=[], completed_at=None, content=[TextContentBlock(text=Text(annotations=[], value='Parece que o arquivo não é um arquivo Excel válido ou poderia estar corrompido. Vamos tentar carregar o arquivo como um arquivo de texto para ver se conseguimos identificar o seu conteúdo e entender o formato. Vou tentar novamente com métodos diferentes para analisar o conteúdo do arquivo.'), type='text')], created_at=1716990384, incomplete_at=None, incomplete_details=None, metadata={}, object='thread.message', role='assistant', run_id='run_qfjCBmcQ6ggM0Zhr45PeyYyq', status=None, thread_id='thread_IV1J6CYkpxuFThgeWe3zppTB'), Message(id='msg_53CpIRl4PqYc9UYSW7PtEWDD', assistant_id='asst_SF4BvXvzf3u71aDnOVoHG4pz', attachments=[], completed_at=None, content=[TextContentBlock(text=Text(annotations=[], value='Parece que houve um problema ao tentar determinar o formato do arquivo Excel. Vou tentar carregar o arquivo especificando explicitamente o motor a ser usado. Vamos tentar novamente.'), type='text')], created_at=1716990377, incomplete_at=None, incomplete_details=None, metadata={}, object='thread.message', role='assistant', run_id='run_qfjCBmcQ6ggM0Zhr45PeyYyq', status=None, thread_id='thread_IV1J6CYkpxuFThgeWe3zppTB'), Message(id='msg_DJA8AmaeLOxBxTWUfztkTdSF', assistant_id='asst_SF4BvXvzf3u71aDnOVoHG4pz', attachments=[], completed_at=None, content=[TextContentBlock(text=Text(annotations=[], value='Para responder a essa pergunta, preciso dar uma olhada no conteúdo do arquivo que você carregou. Vou começar lendo o conteúdo do arquivo para entender sua estrutura. Vamos verificar o que o arquivo contém.'), type='text')], created_at=1716990370, incomplete_at=None, incomplete_details=None, metadata={}, object='thread.message', role='assistant', run_id='run_qfjCBmcQ6ggM0Zhr45PeyYyq', status=None, thread_id='thread_IV1J6CYkpxuFThgeWe3zppTB'), Message(id='msg_8O2HQ2CgTl1cw3X7YONGUgcj', assistant_id=None, attachments=[], completed_at=None, content=[TextContentBlock(text=Text(annotations=[], value='Qual é o raqting médio das vendas do supermercado'), type='text')], created_at=1716990365, incomplete_at=None, incomplete_details=None, metadata={}, object='thread.message', role='user', run_id=None, status=None, thread_id='thread_IV1J6CYkpxuFThgeWe3zppTB')], object='list', first_id='msg_BBFvWlwUFpZ3rpcpuYkMNoc7', last_id='msg_8O2HQ2CgTl1cw3X7YONGUgcj', has_more=False)\n"
     ]
    }
   ],
   "source": [
    "if run.status == 'completed':\n",
    "    mensagens = client.beta.threads.messages.list(\n",
    "        thread_id=thread.id\n",
    "    )\n",
    "    print(mensagens)\n",
    "else:\n",
    "    print('Errro', run.status)"
   ]
  },
  {
   "cell_type": "code",
   "execution_count": 33,
   "id": "2d0c8de3",
   "metadata": {},
   "outputs": [
    {
     "name": "stdout",
     "output_type": "stream",
     "text": [
      "ImageFileContentBlock(image_file=ImageFile(file_id='file-XH64csDOSLd96hj7OrLN3CTe'), type='image_file')\n"
     ]
    }
   ],
   "source": [
    "print(mensagens.data[0].content[0])"
   ]
  },
  {
   "attachments": {},
   "cell_type": "markdown",
   "id": "27e24b15",
   "metadata": {},
   "source": [
    "## Analisando os passos do modelo"
   ]
  },
  {
   "cell_type": "code",
   "execution_count": 34,
   "id": "b5596864",
   "metadata": {},
   "outputs": [],
   "source": [
    "run_steps = client.beta.threads.runs.steps.list(\n",
    "  thread_id=thread.id,\n",
    "  run_id=run.id\n",
    ")"
   ]
  },
  {
   "cell_type": "code",
   "execution_count": 39,
   "id": "f2c8d5ea",
   "metadata": {},
   "outputs": [
    {
     "name": "stdout",
     "output_type": "stream",
     "text": [
      "\n",
      "=== Step: tool_calls\n",
      "-----\n",
      "import matplotlib.pyplot as plt\n",
      "\n",
      "# Contagem do número de vendas por meio de pagamento\n",
      "pagamento_counts = data_csv['Payment'].value_counts()\n",
      "\n",
      "# Percentual de vendas por meio de pagamento\n",
      "pagamento_percent = pagamento_counts / pagamento_counts.sum() * 100\n",
      "\n",
      "# Plotar o gráfico de pizza\n",
      "plt.figure(figsize=(8, 8))\n",
      "plt.pie(pagamento_percent, labels=pagamento_percent.index, autopct='%1.1f%%', startangle=140, colors=['gold', 'lightblue', 'lightcoral'])\n",
      "plt.title('Percentual de Vendas por Meio de Pagamento')\n",
      "plt.show()\n",
      "-----\n",
      "Result\n",
      "\n",
      "=== Step: message_creation\n",
      "Imagem file-XH64csDOSLd96hj7OrLN3CTe salva\n"
     ]
    },
    {
     "data": {
      "image/png": "[encoded data removed]",
      "text/plain": [
       "<Figure size 640x480 with 1 Axes>"
      ]
     },
     "metadata": {},
     "output_type": "display_data"
    }
   ],
   "source": [
    "for step in run_steps.data[::-1]:\n",
    "    print('\\n=== Step:', step.step_details.type)\n",
    "    if step.step_details.type == 'tool_calls':\n",
    "        for tool_call in step.step_details.tool_calls:\n",
    "            print('-----')\n",
    "            print(tool_call.code_interpreter.input)\n",
    "            print('-----')\n",
    "            print('Result')\n",
    "            if tool_call.code_interpreter.outputs[0].type == 'logs':\n",
    "                print(tool_call.code_interpreter.outputs[0].logs)\n",
    "    if step.step_details.type == 'message_creation':\n",
    "        message = client.beta.threads.messages.retrieve(\n",
    "            thread_id=thread.id,\n",
    "            message_id=step.step_details.message_creation.message_id\n",
    "        )\n",
    "        if message.content[0].type == 'text':\n",
    "            print(message.content[0].text.value)\n",
    "        \n",
    "        if message.content[0].type == 'image_file':\n",
    "            file_id = message.content[0].image_file.file_id\n",
    "            image_data = client.files.content(file_id)\n",
    "            with open(f'arquivos/{file_id}.png', 'wb') as f:\n",
    "                f.write(image_data.read())\n",
    "                print(f'Imagem {file_id} salva')\n",
    "            \n",
    "            import matplotlib.pyplot as plt\n",
    "            import matplotlib.image as mpimg\n",
    "\n",
    "            img = mpimg.imread(f'arquivos/{file_id}.png')\n",
    "            fig, ax = plt.subplots()\n",
    "            ax.set_axis_off()\n",
    "            ax.imshow(img)\n",
    "            plt.show()\n",
    "    "
   ]
  },
  {
   "cell_type": "code",
   "execution_count": null,
   "id": "7b8a5990",
   "metadata": {},
   "outputs": [],
   "source": []
  }
 ],
 "metadata": {
  "kernelspec": {
   "display_name": ".venv",
   "language": "python",
   "name": "python3"
  },
  "language_info": {
   "codemirror_mode": {
    "name": "ipython",
    "version": 3
   },
   "file_extension": ".py",
   "mimetype": "text/x-python",
   "name": "python",
   "nbconvert_exporter": "python",
   "pygments_lexer": "ipython3",
   "version": "3.11.4"
  }
 },
 "nbformat": 4,
 "nbformat_minor": 5
}
