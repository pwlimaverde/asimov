{
 "cells": [
  {
   "cell_type": "code",
   "execution_count": 1,
   "id": "0b0a7bea",
   "metadata": {},
   "outputs": [],
   "source": [
    "import openai\n",
    "from dotenv import load_dotenv, find_dotenv\n",
    "\n",
    "_ = load_dotenv(find_dotenv())\n",
    "\n",
    "client = openai.Client()"
   ]
  },
  {
   "attachments": {},
   "cell_type": "markdown",
   "id": "d748127d",
   "metadata": {},
   "source": [
    "## Cria o assistant"
   ]
  },
  {
   "cell_type": "code",
   "execution_count": 2,
   "id": "dfa4476b",
   "metadata": {},
   "outputs": [],
   "source": [
    "vector_store = client.beta.vector_stores.create(name = 'Apostilas Asimov Aula 15')"
   ]
  },
  {
   "cell_type": "code",
   "execution_count": 3,
   "id": "7fd661fc",
   "metadata": {},
   "outputs": [],
   "source": [
    "files = ['arquivos/Explorando a API da OpenAI.pdf',\n",
    "         'arquivos/Explorando o Universo das IAs com Hugging Face.pdf']\n",
    "file_stream = [open(f, 'rb') for f in files]\n",
    "\n",
    "file_batch = client.beta.vector_stores.file_batches.upload_and_poll(\n",
    "    vector_store_id=vector_store.id,\n",
    "    files=file_stream\n",
    ")"
   ]
  },
  {
   "cell_type": "code",
   "execution_count": 4,
   "id": "9c683359",
   "metadata": {},
   "outputs": [
    {
     "name": "stdout",
     "output_type": "stream",
     "text": [
      "completed\n",
      "FileCounts(cancelled=0, completed=2, failed=0, in_progress=0, total=2)\n"
     ]
    }
   ],
   "source": [
    "print(file_batch.status)\n",
    "print(file_batch.file_counts)"
   ]
  },
  {
   "cell_type": "code",
   "execution_count": 5,
   "id": "b8385a71",
   "metadata": {},
   "outputs": [],
   "source": [
    "assitant = client.beta.assistants.create(\n",
    "    name=\"Tutor Asimov\",\n",
    "    instructions=\"Você é um tutor de uma escola de programação. Você é ótimo para responder \\\n",
    "        perguntas teóricas sobre a api da OpenAI e sobre a utilização da biblioteca do Hugging \\\n",
    "        Face com Python. Você utiliza as apostilas dos cursos para basear suas respostas. Caso \\\n",
    "        você não encontre as respostas nas apostilas informadas, você fala que não sabe responder.\",\n",
    "    tools=[{'type': 'file_search'}],\n",
    "    tool_resources={'file_search': {'vector_store_ids': [vector_store.id]}},\n",
    "    model='gpt-4o'\n",
    ")"
   ]
  },
  {
   "attachments": {},
   "cell_type": "markdown",
   "id": "ef03a019",
   "metadata": {},
   "source": [
    "## Cria uma thread"
   ]
  },
  {
   "cell_type": "code",
   "execution_count": 6,
   "id": "6e564600",
   "metadata": {},
   "outputs": [],
   "source": [
    "thread = client.beta.threads.create()"
   ]
  },
  {
   "attachments": {},
   "cell_type": "markdown",
   "id": "2dd2acc5",
   "metadata": {},
   "source": [
    "## Adiciona mensagem a thread criada"
   ]
  },
  {
   "cell_type": "code",
   "execution_count": 37,
   "id": "4ba988f8",
   "metadata": {},
   "outputs": [],
   "source": [
    "mensagem_texto = 'Segundo o documento fornecido, o que é o Hugging Face?'\n",
    "mensagem_texto = 'Segundo o documento fornecido, Como utilizar assistants com python?'\n",
    "\n",
    "\n",
    "message = client.beta.threads.messages.create(\n",
    "    thread_id=thread.id,\n",
    "    role='user',\n",
    "    content=mensagem_texto\n",
    ")"
   ]
  },
  {
   "attachments": {},
   "cell_type": "markdown",
   "id": "db10a63b",
   "metadata": {},
   "source": [
    "## Roda a thread no assistant"
   ]
  },
  {
   "cell_type": "code",
   "execution_count": 38,
   "id": "ab3e750e",
   "metadata": {},
   "outputs": [],
   "source": [
    "run = client.beta.threads.runs.create(\n",
    "    thread_id=thread.id,\n",
    "    assistant_id=assitant.id,\n",
    "    instructions='O nome do usuário é Adriano Soares e ele é um usuário Premium.'\n",
    ")"
   ]
  },
  {
   "attachments": {},
   "cell_type": "markdown",
   "id": "7b71e5ba",
   "metadata": {},
   "source": [
    "## Aguarda a thread rodar"
   ]
  },
  {
   "cell_type": "code",
   "execution_count": 39,
   "id": "cc04b39a",
   "metadata": {},
   "outputs": [
    {
     "name": "stdout",
     "output_type": "stream",
     "text": [
      "completed\n"
     ]
    }
   ],
   "source": [
    "import time\n",
    "\n",
    "while run.status in ['queued', 'in_progress', 'cancelling']:\n",
    "    time.sleep(1)\n",
    "    run = client.beta.threads.runs.retrieve(\n",
    "        thread_id=thread.id,\n",
    "        run_id=run.id\n",
    "    )\n",
    "print(run.status)"
   ]
  },
  {
   "attachments": {},
   "cell_type": "markdown",
   "id": "f2b0bf80",
   "metadata": {},
   "source": [
    "## Verifica a resposta"
   ]
  },
  {
   "cell_type": "code",
   "execution_count": 40,
   "id": "6fa5456c",
   "metadata": {},
   "outputs": [
    {
     "name": "stdout",
     "output_type": "stream",
     "text": [
      "SyncCursorPage[Message](data=[Message(id='msg_hcY14gH5VGW4KeI7w4uRxg7U', assistant_id='asst_szwtQwfFmf9VoQom8CH09uZp', attachments=[], completed_at=None, content=[TextContentBlock(text=Text(annotations=[FileCitationAnnotation(end_index=2873, file_citation=FileCitation(file_id='file-QnKvLVwQWHN9xq2NADunh5nx', quote=None), start_index=2861, text='【8:0†source】', type='file_citation'), FileCitationAnnotation(end_index=2885, file_citation=FileCitation(file_id='file-QnKvLVwQWHN9xq2NADunh5nx', quote=None), start_index=2873, text='【8:3†source】', type='file_citation')], value='Para utilizar Assistants com Python, você pode seguir os passos ilustrados abaixo para criar, configurar e interagir com assistentes inteligentes através da API da OpenAI. Este método inclui a criação de assistentes com instruções específicas e a utilização de ferramentas como o **Code Interpreter**.\\n\\n### Criando um Assistente\\n\\n1. **Inicializando o Cliente da OpenAI**\\n   Primeiro, você deve inicializar o cliente da OpenAI. Aqui está o código para fazer isso:\\n   ```python\\n   import openai\\n   from dotenv import load_dotenv, find_dotenv\\n\\n   _ = load_dotenv(find_dotenv())\\n\\n   client = openai.Client()\\n   ```\\n\\n2. **Criando o Assistant**\\n   A seguir, crie um assistente com uma instrução específica. Neste exemplo, criamos um assistente que responde perguntas de matemática e possui acesso à ferramenta de interpretação de código:\\n   ```python\\n   assistant = client.beta.assistants.create(\\n       name=\"Math Tutor\",\\n       instructions=\"You are a personal math tutor. Write and run code to answer math questions.\",\\n       tools=[{\"type\": \"code_interpreter\"}],\\n       model=\"gpt-4-turbo-preview\",\\n   )\\n   ```\\n\\n### Utilizando Threads para Comunicação Persistente\\n\\n3. **Criando uma Thread**\\n   A comunicação com os assistentes é feita através de threads, que armazenam o histórico de mensagens:\\n   ```python\\n   thread = client.beta.threads.create()\\n   ```\\n\\n4. **Adicionando Mensagens a Thread**\\n   Adicione mensagens à thread criada usando o seguinte código:\\n   ```python\\n   mensagem = client.beta.threads.messages.create(\\n       thread_id=thread.id,\\n       role=\\'user\\',\\n       content=\\'Se eu jogar um dado honesto 1000 vezes, qual é a probabilidade de eu obter exatamente 150 vezes o número 6? Resolva com um código\\'\\n   )\\n   ```\\n\\n5. **Executando a Thread**\\n   Execute a thread informando ao assistente que você deseja rodar as mensagens daquela thread:\\n   ```python\\n   run = client.beta.threads.runs.create(\\n       thread_id=thread.id,\\n       assistant_id=assistant.id,\\n       instructions=\\'Rodar que usuário é Adriano Soares e ele é um usuário Premium.\\'\\n   )\\n   ```\\n\\n6. **Esperando a Execução da Thread**\\n   Espere a execução da thread antes de prosseguir:\\n   ```python\\n   import time\\n   \\n   while run.status in [\\'queued\\', \\'in_progress\\', \\'cancelling\\']:\\n       time.sleep(1)\\n       run = client.beta.threads.runs.retrieve(\\n           thread_id=thread.id,\\n           run_id=run.id\\n       )\\n   print(run.status)  # \\'completed\\'\\n   ```\\n\\n7. **Verificando a Resposta**\\n   Por fim, verifique a resposta dada pelo modelo solicitando a lista de mensagens atual da thread:\\n   ```python\\n   if run.status == \\'completed\\':\\n       mensagens = client.beta.threads.messages.list(thread_id=thread.id)\\n       print(mensagens)\\n   else:\\n       print(\\'Erro\\', run.status)\\n   ```\\n\\n### Exemplos e Referências de Código\\nEste guia é baseado em exemplos práticos e na documentação fornecida【8:0†source】【8:3†source】. Se precisar de mais detalhes, você pode consultar a [documentação da API da OpenAI](https://platform.openai.com/assistants).\\n\\nEspero que essas informações te ajudem a começar a usar assistentes com Python! Se tiver mais perguntas, sinta-se à vontade para perguntar.'), type='text')], created_at=1716993124, incomplete_at=None, incomplete_details=None, metadata={}, object='thread.message', role='assistant', run_id='run_rfXHID9mC4FZWMrVTdNBwEeQ', status=None, thread_id='thread_Xk2ZxVoyyU49MtPJ4p0SMhB8'), Message(id='msg_yCQRq1cWzRydF0hl4tWP6hIv', assistant_id=None, attachments=[], completed_at=None, content=[TextContentBlock(text=Text(annotations=[], value='Segundo o documento fornecido, Como utilizar assistants com python?'), type='text')], created_at=1716993117, incomplete_at=None, incomplete_details=None, metadata={}, object='thread.message', role='user', run_id=None, status=None, thread_id='thread_Xk2ZxVoyyU49MtPJ4p0SMhB8'), Message(id='msg_TkKK8u6DmVhq4pq9pOJokFtO', assistant_id='asst_szwtQwfFmf9VoQom8CH09uZp', attachments=[], completed_at=None, content=[TextContentBlock(text=Text(annotations=[FileCitationAnnotation(end_index=593, file_citation=FileCitation(file_id='file-XQu2k0Z4be7XgDEXxoKcQz6x', quote=None), start_index=581, text='【4:0†source】', type='file_citation'), FileCitationAnnotation(end_index=768, file_citation=FileCitation(file_id='file-XQu2k0Z4be7XgDEXxoKcQz6x', quote=None), start_index=756, text='【4:3†source】', type='file_citation')], value='A Hugging Face é uma empresa fundada em 2017 na França que começou desenvolvendo chatbots e, com o tempo, expandiu para criar uma infraestrutura própria e bibliotecas de Python que facilitam o uso de modelos de Processamento de Linguagem Natural (NLP). Hoje, a Hugging Face é uma plataforma colaborativa que permite que pesquisadores, empresas e entusiastas compartilhem modelos de IA e conjuntos de dados para diversas tarefas. Em 2023, a Hugging Face atingiu um valor de mercado de 4,5 bilhões de dólares, recebendo investimentos de empresas como Google, Meta, Microsoft e Nvidia【4:0†source】. \\n\\nA plataforma oferece uma variedade de recursos que são, em sua maioria, abertos e gratuitos para uso, embora existam opções de pagamento para projetos privados【4:3†source】.\\n\\nSe precisar de mais alguma informação ou ajuda sobre como usar a plataforma Hugging Face, estou à disposição.'), type='text')], created_at=1716992418, incomplete_at=None, incomplete_details=None, metadata={}, object='thread.message', role='assistant', run_id='run_z2AQS9QtsRsPXEdfMXOSyyOq', status=None, thread_id='thread_Xk2ZxVoyyU49MtPJ4p0SMhB8'), Message(id='msg_XPl8lHwauI9iFiJ9lAxmOvby', assistant_id=None, attachments=[], completed_at=None, content=[TextContentBlock(text=Text(annotations=[], value='Segundo o documento fornecido, o que é o Hugging Face?'), type='text')], created_at=1716992410, incomplete_at=None, incomplete_details=None, metadata={}, object='thread.message', role='user', run_id=None, status=None, thread_id='thread_Xk2ZxVoyyU49MtPJ4p0SMhB8')], object='list', first_id='msg_hcY14gH5VGW4KeI7w4uRxg7U', last_id='msg_XPl8lHwauI9iFiJ9lAxmOvby', has_more=False)\n"
     ]
    }
   ],
   "source": [
    "if run.status == 'completed':\n",
    "    mensagens = client.beta.threads.messages.list(\n",
    "        thread_id=thread.id\n",
    "    )\n",
    "    print(mensagens)\n",
    "else:\n",
    "    print('Errro', run.status)"
   ]
  },
  {
   "cell_type": "code",
   "execution_count": 41,
   "id": "3f9d818b",
   "metadata": {},
   "outputs": [
    {
     "name": "stdout",
     "output_type": "stream",
     "text": [
      "Para utilizar Assistants com Python, você pode seguir os passos ilustrados abaixo para criar, configurar e interagir com assistentes inteligentes através da API da OpenAI. Este método inclui a criação de assistentes com instruções específicas e a utilização de ferramentas como o **Code Interpreter**.\n",
      "\n",
      "### Criando um Assistente\n",
      "\n",
      "1. **Inicializando o Cliente da OpenAI**\n",
      "   Primeiro, você deve inicializar o cliente da OpenAI. Aqui está o código para fazer isso:\n",
      "   ```python\n",
      "   import openai\n",
      "   from dotenv import load_dotenv, find_dotenv\n",
      "\n",
      "   _ = load_dotenv(find_dotenv())\n",
      "\n",
      "   client = openai.Client()\n",
      "   ```\n",
      "\n",
      "2. **Criando o Assistant**\n",
      "   A seguir, crie um assistente com uma instrução específica. Neste exemplo, criamos um assistente que responde perguntas de matemática e possui acesso à ferramenta de interpretação de código:\n",
      "   ```python\n",
      "   assistant = client.beta.assistants.create(\n",
      "       name=\"Math Tutor\",\n",
      "       instructions=\"You are a personal math tutor. Write and run code to answer math questions.\",\n",
      "       tools=[{\"type\": \"code_interpreter\"}],\n",
      "       model=\"gpt-4-turbo-preview\",\n",
      "   )\n",
      "   ```\n",
      "\n",
      "### Utilizando Threads para Comunicação Persistente\n",
      "\n",
      "3. **Criando uma Thread**\n",
      "   A comunicação com os assistentes é feita através de threads, que armazenam o histórico de mensagens:\n",
      "   ```python\n",
      "   thread = client.beta.threads.create()\n",
      "   ```\n",
      "\n",
      "4. **Adicionando Mensagens a Thread**\n",
      "   Adicione mensagens à thread criada usando o seguinte código:\n",
      "   ```python\n",
      "   mensagem = client.beta.threads.messages.create(\n",
      "       thread_id=thread.id,\n",
      "       role='user',\n",
      "       content='Se eu jogar um dado honesto 1000 vezes, qual é a probabilidade de eu obter exatamente 150 vezes o número 6? Resolva com um código'\n",
      "   )\n",
      "   ```\n",
      "\n",
      "5. **Executando a Thread**\n",
      "   Execute a thread informando ao assistente que você deseja rodar as mensagens daquela thread:\n",
      "   ```python\n",
      "   run = client.beta.threads.runs.create(\n",
      "       thread_id=thread.id,\n",
      "       assistant_id=assistant.id,\n",
      "       instructions='Rodar que usuário é Adriano Soares e ele é um usuário Premium.'\n",
      "   )\n",
      "   ```\n",
      "\n",
      "6. **Esperando a Execução da Thread**\n",
      "   Espere a execução da thread antes de prosseguir:\n",
      "   ```python\n",
      "   import time\n",
      "   \n",
      "   while run.status in ['queued', 'in_progress', 'cancelling']:\n",
      "       time.sleep(1)\n",
      "       run = client.beta.threads.runs.retrieve(\n",
      "           thread_id=thread.id,\n",
      "           run_id=run.id\n",
      "       )\n",
      "   print(run.status)  # 'completed'\n",
      "   ```\n",
      "\n",
      "7. **Verificando a Resposta**\n",
      "   Por fim, verifique a resposta dada pelo modelo solicitando a lista de mensagens atual da thread:\n",
      "   ```python\n",
      "   if run.status == 'completed':\n",
      "       mensagens = client.beta.threads.messages.list(thread_id=thread.id)\n",
      "       print(mensagens)\n",
      "   else:\n",
      "       print('Erro', run.status)\n",
      "   ```\n",
      "\n",
      "### Exemplos e Referências de Código\n",
      "Este guia é baseado em exemplos práticos e na documentação fornecida【8:0†source】【8:3†source】. Se precisar de mais detalhes, você pode consultar a [documentação da API da OpenAI](https://platform.openai.com/assistants).\n",
      "\n",
      "Espero que essas informações te ajudem a começar a usar assistentes com Python! Se tiver mais perguntas, sinta-se à vontade para perguntar.\n"
     ]
    }
   ],
   "source": [
    "print(mensagens.data[0].content[0].text.value)"
   ]
  },
  {
   "attachments": {},
   "cell_type": "markdown",
   "id": "27e24b15",
   "metadata": {},
   "source": [
    "## Analisando os passos do modelo"
   ]
  },
  {
   "cell_type": "code",
   "execution_count": 42,
   "id": "b5596864",
   "metadata": {},
   "outputs": [],
   "source": [
    "run_steps = client.beta.threads.runs.steps.list(\n",
    "  thread_id=thread.id,\n",
    "  run_id=run.id\n",
    ")"
   ]
  },
  {
   "cell_type": "code",
   "execution_count": 43,
   "id": "f2c8d5ea",
   "metadata": {},
   "outputs": [
    {
     "name": "stdout",
     "output_type": "stream",
     "text": [
      "\n",
      "=== Step: tool_calls\n",
      "FileSearchToolCall(id='call_n2Gohz4Tq2MPEvx3k672NCEi', file_search={}, type='file_search')\n",
      "\n",
      "=== Step: message_creation\n",
      "Para utilizar Assistants com Python, você pode seguir os passos ilustrados abaixo para criar, configurar e interagir com assistentes inteligentes através da API da OpenAI. Este método inclui a criação de assistentes com instruções específicas e a utilização de ferramentas como o **Code Interpreter**.\n",
      "\n",
      "### Criando um Assistente\n",
      "\n",
      "1. **Inicializando o Cliente da OpenAI**\n",
      "   Primeiro, você deve inicializar o cliente da OpenAI. Aqui está o código para fazer isso:\n",
      "   ```python\n",
      "   import openai\n",
      "   from dotenv import load_dotenv, find_dotenv\n",
      "\n",
      "   _ = load_dotenv(find_dotenv())\n",
      "\n",
      "   client = openai.Client()\n",
      "   ```\n",
      "\n",
      "2. **Criando o Assistant**\n",
      "   A seguir, crie um assistente com uma instrução específica. Neste exemplo, criamos um assistente que responde perguntas de matemática e possui acesso à ferramenta de interpretação de código:\n",
      "   ```python\n",
      "   assistant = client.beta.assistants.create(\n",
      "       name=\"Math Tutor\",\n",
      "       instructions=\"You are a personal math tutor. Write and run code to answer math questions.\",\n",
      "       tools=[{\"type\": \"code_interpreter\"}],\n",
      "       model=\"gpt-4-turbo-preview\",\n",
      "   )\n",
      "   ```\n",
      "\n",
      "### Utilizando Threads para Comunicação Persistente\n",
      "\n",
      "3. **Criando uma Thread**\n",
      "   A comunicação com os assistentes é feita através de threads, que armazenam o histórico de mensagens:\n",
      "   ```python\n",
      "   thread = client.beta.threads.create()\n",
      "   ```\n",
      "\n",
      "4. **Adicionando Mensagens a Thread**\n",
      "   Adicione mensagens à thread criada usando o seguinte código:\n",
      "   ```python\n",
      "   mensagem = client.beta.threads.messages.create(\n",
      "       thread_id=thread.id,\n",
      "       role='user',\n",
      "       content='Se eu jogar um dado honesto 1000 vezes, qual é a probabilidade de eu obter exatamente 150 vezes o número 6? Resolva com um código'\n",
      "   )\n",
      "   ```\n",
      "\n",
      "5. **Executando a Thread**\n",
      "   Execute a thread informando ao assistente que você deseja rodar as mensagens daquela thread:\n",
      "   ```python\n",
      "   run = client.beta.threads.runs.create(\n",
      "       thread_id=thread.id,\n",
      "       assistant_id=assistant.id,\n",
      "       instructions='Rodar que usuário é Adriano Soares e ele é um usuário Premium.'\n",
      "   )\n",
      "   ```\n",
      "\n",
      "6. **Esperando a Execução da Thread**\n",
      "   Espere a execução da thread antes de prosseguir:\n",
      "   ```python\n",
      "   import time\n",
      "   \n",
      "   while run.status in ['queued', 'in_progress', 'cancelling']:\n",
      "       time.sleep(1)\n",
      "       run = client.beta.threads.runs.retrieve(\n",
      "           thread_id=thread.id,\n",
      "           run_id=run.id\n",
      "       )\n",
      "   print(run.status)  # 'completed'\n",
      "   ```\n",
      "\n",
      "7. **Verificando a Resposta**\n",
      "   Por fim, verifique a resposta dada pelo modelo solicitando a lista de mensagens atual da thread:\n",
      "   ```python\n",
      "   if run.status == 'completed':\n",
      "       mensagens = client.beta.threads.messages.list(thread_id=thread.id)\n",
      "       print(mensagens)\n",
      "   else:\n",
      "       print('Erro', run.status)\n",
      "   ```\n",
      "\n",
      "### Exemplos e Referências de Código\n",
      "Este guia é baseado em exemplos práticos e na documentação fornecida【8:0†source】【8:3†source】. Se precisar de mais detalhes, você pode consultar a [documentação da API da OpenAI](https://platform.openai.com/assistants).\n",
      "\n",
      "Espero que essas informações te ajudem a começar a usar assistentes com Python! Se tiver mais perguntas, sinta-se à vontade para perguntar.\n"
     ]
    }
   ],
   "source": [
    "for step in run_steps.data[::-1]:\n",
    "    print('\\n=== Step:', step.step_details.type)\n",
    "    if step.step_details.type == 'tool_calls':\n",
    "        for tool_call in step.step_details.tool_calls:\n",
    "            if tool_call.type == 'file_search':\n",
    "                print(tool_call)\n",
    "            else:\n",
    "                print('-----')\n",
    "                print(tool_call.code_interpreter.input)\n",
    "                print('-----')\n",
    "                print('Result')\n",
    "                print(tool_call.code_interpreter.outputs[0].logs)\n",
    "    if step.step_details.type == 'message_creation':\n",
    "        message = client.beta.threads.messages.retrieve(\n",
    "            thread_id=thread.id,\n",
    "            message_id=step.step_details.message_creation.message_id\n",
    "        )\n",
    "        print(message.content[0].text.value)\n",
    "    "
   ]
  },
  {
   "cell_type": "code",
   "execution_count": 44,
   "id": "7b8a5990",
   "metadata": {},
   "outputs": [],
   "source": [
    "mensagens = client.beta.threads.messages.list(\n",
    "    thread_id=thread.id\n",
    ")\n",
    "mensagem = list(mensagens)[0].content[0].text\n",
    "anotacoes = mensagem.annotations\n",
    "citacoes = []\n",
    "for index, anotacao in enumerate(anotacoes):\n",
    "    mensagem.value = mensagem.value.replace(anotacao.text, f'[{index}]')\n",
    "    if file_cit := getattr(anotacao, 'file_citation', None):\n",
    "        file = client.files.retrieve(file_cit.file_id)\n",
    "        citacoes.append(f'[{index}] {file.filename}')\n",
    "citacoes = \"\\n\".join(citacoes)\n",
    "mensagem.value = f'{mensagem.value}\\n\\n{citacoes}' "
   ]
  },
  {
   "cell_type": "code",
   "execution_count": 45,
   "id": "f2d174e6",
   "metadata": {},
   "outputs": [
    {
     "name": "stdout",
     "output_type": "stream",
     "text": [
      "Para utilizar Assistants com Python, você pode seguir os passos ilustrados abaixo para criar, configurar e interagir com assistentes inteligentes através da API da OpenAI. Este método inclui a criação de assistentes com instruções específicas e a utilização de ferramentas como o **Code Interpreter**.\n",
      "\n",
      "### Criando um Assistente\n",
      "\n",
      "1. **Inicializando o Cliente da OpenAI**\n",
      "   Primeiro, você deve inicializar o cliente da OpenAI. Aqui está o código para fazer isso:\n",
      "   ```python\n",
      "   import openai\n",
      "   from dotenv import load_dotenv, find_dotenv\n",
      "\n",
      "   _ = load_dotenv(find_dotenv())\n",
      "\n",
      "   client = openai.Client()\n",
      "   ```\n",
      "\n",
      "2. **Criando o Assistant**\n",
      "   A seguir, crie um assistente com uma instrução específica. Neste exemplo, criamos um assistente que responde perguntas de matemática e possui acesso à ferramenta de interpretação de código:\n",
      "   ```python\n",
      "   assistant = client.beta.assistants.create(\n",
      "       name=\"Math Tutor\",\n",
      "       instructions=\"You are a personal math tutor. Write and run code to answer math questions.\",\n",
      "       tools=[{\"type\": \"code_interpreter\"}],\n",
      "       model=\"gpt-4-turbo-preview\",\n",
      "   )\n",
      "   ```\n",
      "\n",
      "### Utilizando Threads para Comunicação Persistente\n",
      "\n",
      "3. **Criando uma Thread**\n",
      "   A comunicação com os assistentes é feita através de threads, que armazenam o histórico de mensagens:\n",
      "   ```python\n",
      "   thread = client.beta.threads.create()\n",
      "   ```\n",
      "\n",
      "4. **Adicionando Mensagens a Thread**\n",
      "   Adicione mensagens à thread criada usando o seguinte código:\n",
      "   ```python\n",
      "   mensagem = client.beta.threads.messages.create(\n",
      "       thread_id=thread.id,\n",
      "       role='user',\n",
      "       content='Se eu jogar um dado honesto 1000 vezes, qual é a probabilidade de eu obter exatamente 150 vezes o número 6? Resolva com um código'\n",
      "   )\n",
      "   ```\n",
      "\n",
      "5. **Executando a Thread**\n",
      "   Execute a thread informando ao assistente que você deseja rodar as mensagens daquela thread:\n",
      "   ```python\n",
      "   run = client.beta.threads.runs.create(\n",
      "       thread_id=thread.id,\n",
      "       assistant_id=assistant.id,\n",
      "       instructions='Rodar que usuário é Adriano Soares e ele é um usuário Premium.'\n",
      "   )\n",
      "   ```\n",
      "\n",
      "6. **Esperando a Execução da Thread**\n",
      "   Espere a execução da thread antes de prosseguir:\n",
      "   ```python\n",
      "   import time\n",
      "   \n",
      "   while run.status in ['queued', 'in_progress', 'cancelling']:\n",
      "       time.sleep(1)\n",
      "       run = client.beta.threads.runs.retrieve(\n",
      "           thread_id=thread.id,\n",
      "           run_id=run.id\n",
      "       )\n",
      "   print(run.status)  # 'completed'\n",
      "   ```\n",
      "\n",
      "7. **Verificando a Resposta**\n",
      "   Por fim, verifique a resposta dada pelo modelo solicitando a lista de mensagens atual da thread:\n",
      "   ```python\n",
      "   if run.status == 'completed':\n",
      "       mensagens = client.beta.threads.messages.list(thread_id=thread.id)\n",
      "       print(mensagens)\n",
      "   else:\n",
      "       print('Erro', run.status)\n",
      "   ```\n",
      "\n",
      "### Exemplos e Referências de Código\n",
      "Este guia é baseado em exemplos práticos e na documentação fornecida[0][1]. Se precisar de mais detalhes, você pode consultar a [documentação da API da OpenAI](https://platform.openai.com/assistants).\n",
      "\n",
      "Espero que essas informações te ajudem a começar a usar assistentes com Python! Se tiver mais perguntas, sinta-se à vontade para perguntar.\n",
      "\n",
      "[0] Explorando a API da OpenAI.pdf\n",
      "[1] Explorando a API da OpenAI.pdf\n"
     ]
    }
   ],
   "source": [
    "print(mensagem.value)"
   ]
  },
  {
   "cell_type": "code",
   "execution_count": null,
   "id": "309a064b",
   "metadata": {},
   "outputs": [],
   "source": []
  }
 ],
 "metadata": {
  "kernelspec": {
   "display_name": ".venv",
   "language": "python",
   "name": "python3"
  },
  "language_info": {
   "codemirror_mode": {
    "name": "ipython",
    "version": 3
   },
   "file_extension": ".py",
   "mimetype": "text/x-python",
   "name": "python",
   "nbconvert_exporter": "python",
   "pygments_lexer": "ipython3",
   "version": "3.11.4"
  }
 },
 "nbformat": 4,
 "nbformat_minor": 5
}
