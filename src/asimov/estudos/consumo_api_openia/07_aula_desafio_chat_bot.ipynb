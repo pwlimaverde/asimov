{
 "cells": [
  {
   "cell_type": "code",
   "execution_count": 20,
   "metadata": {},
   "outputs": [],
   "source": [
    "from openai import OpenAI\n",
    "from dotenv import load_dotenv, find_dotenv\n",
    "\n",
    "_ = load_dotenv(find_dotenv())"
   ]
  },
  {
   "cell_type": "code",
   "execution_count": 21,
   "metadata": {},
   "outputs": [],
   "source": [
    "client = OpenAI()"
   ]
  },
  {
   "cell_type": "code",
   "execution_count": 22,
   "metadata": {},
   "outputs": [],
   "source": [
    "def gerar_resposta(mensagens, model=\"gpt-4-turbo-2024-04-09\", max_tokens=200, temperature=0.5, stream=False):\n",
    "    resposta = client.chat.completions.create(\n",
    "    messages=mensagens,\n",
    "    model=model,\n",
    "    max_tokens=max_tokens,\n",
    "    temperature=temperature,\n",
    "    stream=stream\n",
    "    )\n",
    "    if stream:\n",
    "        resposta_completa = ''\n",
    "        print(f'Assistant: ', end='')\n",
    "        for token in resposta:\n",
    "            texto = token.choices[0].delta.content\n",
    "            if texto:\n",
    "                resposta_completa += texto\n",
    "                print(texto, end='')\n",
    "        print()\n",
    "        mensagens.append({'role': 'assistant', 'content': resposta_completa})\n",
    "    else:\n",
    "        print(resposta.choices[0].message.content)\n",
    "        print()\n",
    "        mensagens.append(\n",
    "            resposta.choices[0].message.model_dump(exclude_none=True))\n",
    "    return mensagens\n"
   ]
  },
  {
   "cell_type": "code",
   "execution_count": 23,
   "metadata": {},
   "outputs": [
    {
     "name": "stdout",
     "output_type": "stream",
     "text": [
      "Bem vindo ao ChatBot de SYSPWL. Qual seu nome?\n",
      "Digite a qualquer momento \"sair\", para sair do ChatBot.\n",
      "Seu nome é paulo, está correto?\n",
      "Assistant: Olá paulo, tudo bem? Em que posso ajudar?\n",
      "Assistant: Em Marte, Ana, uma jovem botânica, cultiva o primeiro jardim marciano em uma estufa especial. Sob cúpulas de vidro, flores vermelhas e laranjas florescem, simbolizando esperança. Enquanto ela rega as plantas, sonha com futuras gerações caminhando entre campos verdes no Planeta Vermelho, transformando-o em um novo lar.\n",
      "Agradecemos seu contato. Até breve!\n"
     ]
    }
   ],
   "source": [
    "print('Bem vindo ao ChatBot de SYSPWL. Qual seu nome?')\n",
    "print(f'Digite a qualquer momento \"sair\", para sair do ChatBot.')\n",
    "nome = ''\n",
    "iniciar_chat = False\n",
    "mensagens =  []\n",
    "\n",
    "while True:\n",
    "    nome = input('Digite seu nome aqui: ')\n",
    "    if nome.lower() == 'sair':\n",
    "        print('Agradecemos seu contato. Até breve!')\n",
    "        break\n",
    "    if nome:\n",
    "        print(f'Seu nome é {nome}, está correto?')\n",
    "        confirmacao_nome = input('Digite S para confirmar!')\n",
    "        if confirmacao_nome.lower() != 's':\n",
    "            continue\n",
    "        else:\n",
    "            iniciar_chat = True\n",
    "            break\n",
    "\n",
    "\n",
    "if iniciar_chat:\n",
    "    print(f'Assistant: Olá {nome}, tudo bem? Em que posso ajudar?')\n",
    "    while True:\n",
    "        texto_user = input(f'{nome}: ')\n",
    "        if texto_user.lower() != 'sair':\n",
    "            mensagens.append({\n",
    "                'role': 'user',\n",
    "                'content': texto_user\n",
    "            })\n",
    "            mensagens = gerar_resposta(mensagens, stream=True)\n",
    "        else:\n",
    "            print('Agradecemos seu contato. Até breve!')\n",
    "            break"
   ]
  }
 ],
 "metadata": {
  "kernelspec": {
   "display_name": ".venv",
   "language": "python",
   "name": "python3"
  },
  "language_info": {
   "codemirror_mode": {
    "name": "ipython",
    "version": 3
   },
   "file_extension": ".py",
   "mimetype": "text/x-python",
   "name": "python",
   "nbconvert_exporter": "python",
   "pygments_lexer": "ipython3",
   "version": "3.13.1"
  }
 },
 "nbformat": 4,
 "nbformat_minor": 2
}
