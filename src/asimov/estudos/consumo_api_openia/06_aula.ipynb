{
 "cells": [
  {
   "cell_type": "code",
   "execution_count": 1,
   "metadata": {},
   "outputs": [],
   "source": [
    "from openai import OpenAI\n",
    "from dotenv import load_dotenv, find_dotenv\n",
    "\n",
    "_ = load_dotenv(find_dotenv())"
   ]
  },
  {
   "cell_type": "code",
   "execution_count": 2,
   "metadata": {},
   "outputs": [],
   "source": [
    "client = OpenAI()"
   ]
  },
  {
   "cell_type": "code",
   "execution_count": 31,
   "metadata": {},
   "outputs": [],
   "source": [
    "def gerar_chat(mensagens, model=\"gpt-4-turbo-2024-04-09\", max_tokens=200, temperature=0.5, stream=False):\n",
    "    resposta = client.chat.completions.create(\n",
    "    messages=mensagens,\n",
    "    model=model,\n",
    "    max_tokens=max_tokens,\n",
    "    temperature=temperature,\n",
    "    stream=stream\n",
    "    )\n",
    "    if stream:\n",
    "        resposta_completa = ''\n",
    "        for token in resposta:\n",
    "            texto = token.choices[0].delta.content\n",
    "            if texto:\n",
    "                resposta_completa += texto\n",
    "                print(texto, end='')\n",
    "        mensagens.append({'role': 'assistant', 'content': resposta_completa})\n",
    "    else:\n",
    "        print(resposta.choices[0].message.content)\n",
    "        mensagens.append(resposta.choices[0].message.model_dump(exclude_none=True))\n",
    "    return mensagens\n"
   ]
  },
  {
   "cell_type": "code",
   "execution_count": 32,
   "metadata": {},
   "outputs": [
    {
     "name": "stdout",
     "output_type": "stream",
     "text": [
      "Em 2085, Ana, uma jovem cientista, embarcou na missão \"Amanhecer Vermelho\" para Marte. Após meses de viagem pelo espaço, a emoção de pisar no solo marciano era palpável. A paisagem era um deserto vermelho vasto e silencioso, mas para Ana, cada grão de areia contava a história de um universo não explorado.\n",
      "\n",
      "Ela e sua equipe montaram a primeira colônia sustentável, utilizando tecnologia avançada para extrair água do solo e cultivar alimentos. Ana sabia que cada pequeno passo em Marte era um gigante salto para a humanidade, sonhando com o dia em que Marte se tornaria um segundo lar."
     ]
    }
   ],
   "source": [
    "mensagens = [{\n",
    "    'role': 'user',\n",
    "    'content': 'Crie uma pequena historia sobre uma viagem a marte com no máximo 100 palavras'\n",
    "}]\n",
    "\n",
    "mensagens = gerar_chat(mensagens, stream=True)"
   ]
  }
 ],
 "metadata": {
  "kernelspec": {
   "display_name": ".venv",
   "language": "python",
   "name": "python3"
  },
  "language_info": {
   "codemirror_mode": {
    "name": "ipython",
    "version": 3
   },
   "file_extension": ".py",
   "mimetype": "text/x-python",
   "name": "python",
   "nbconvert_exporter": "python",
   "pygments_lexer": "ipython3",
   "version": "3.13.1"
  }
 },
 "nbformat": 4,
 "nbformat_minor": 2
}
